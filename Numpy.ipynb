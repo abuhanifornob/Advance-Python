{
 "cells": [
  {
   "cell_type": "code",
   "execution_count": 5,
   "id": "1078a26f-84b4-4160-9aba-adc654d5d089",
   "metadata": {},
   "outputs": [
    {
     "name": "stdout",
     "output_type": "stream",
     "text": [
      "[10 12 15  6  8]\n"
     ]
    }
   ],
   "source": [
    "import numpy as np \n",
    "arr=np.array([10,12,15,6,8])\n",
    "print(arr)"
   ]
  },
  {
   "cell_type": "code",
   "execution_count": 5,
   "id": "7c2e6cb8-661d-494b-a293-9bfef3dd57a5",
   "metadata": {},
   "outputs": [
    {
     "name": "stdout",
     "output_type": "stream",
     "text": [
      "1.26.4\n"
     ]
    }
   ],
   "source": [
    "print(np.__version__)"
   ]
  },
  {
   "cell_type": "code",
   "execution_count": 7,
   "id": "281a3689-e0c0-4441-ab9c-2b076d31a7fe",
   "metadata": {},
   "outputs": [
    {
     "name": "stdout",
     "output_type": "stream",
     "text": [
      "<class 'numpy.ndarray'>\n"
     ]
    }
   ],
   "source": [
    "print(type(arr))"
   ]
  },
  {
   "cell_type": "code",
   "execution_count": 11,
   "id": "7cd8e10d-b33e-4b2a-a346-b1ff6c1e3903",
   "metadata": {},
   "outputs": [
    {
     "name": "stdout",
     "output_type": "stream",
     "text": [
      "[10 20 30  4  0]\n",
      "<class 'numpy.ndarray'>\n"
     ]
    }
   ],
   "source": [
    "arr1=np.array((10,20,30,4,0))\n",
    "print(arr1)\n",
    "print(type(arr1))"
   ]
  },
  {
   "cell_type": "code",
   "execution_count": 13,
   "id": "e2db106a-00fa-4948-b85e-f1842e1760db",
   "metadata": {},
   "outputs": [
    {
     "name": "stdout",
     "output_type": "stream",
     "text": [
      "[[1 2 3]\n",
      " [4 5 6]]\n"
     ]
    }
   ],
   "source": [
    "arr = np.array([[1, 2, 3], [4, 5, 6]])\n",
    "\n",
    "print(arr)"
   ]
  },
  {
   "cell_type": "code",
   "execution_count": 15,
   "id": "9bd152af-59b5-46a8-bff3-723e73e13bb8",
   "metadata": {},
   "outputs": [
    {
     "name": "stdout",
     "output_type": "stream",
     "text": [
      "[[[1 2 3]\n",
      "  [4 5 6]]\n",
      "\n",
      " [[1 2 3]\n",
      "  [4 5 6]]]\n"
     ]
    }
   ],
   "source": [
    "import numpy as np\n",
    "\n",
    "arr = np.array([[[1, 2, 3], [4, 5, 6]], [[1, 2, 3], [4, 5, 6]]])\n",
    "\n",
    "print(arr)"
   ]
  },
  {
   "cell_type": "code",
   "execution_count": 35,
   "id": "61a78d00-0a6e-4e62-9be0-99bfd5f52009",
   "metadata": {},
   "outputs": [
    {
     "name": "stdout",
     "output_type": "stream",
     "text": [
      "0\n",
      "1\n",
      "2\n",
      "3\n"
     ]
    }
   ],
   "source": [
    "a = np.array(42)\n",
    "b = np.array([1, 2, 3, 4, 5])\n",
    "c = np.array([[1, 2, 3], [4, 5, 6]])\n",
    "d = np.array([[[1, 2, 3], [4, 5, 6]], [[1, 2, 3], [4, 5, 6]]])\n",
    "print(a.ndim)\n",
    "print(b.ndim)\n",
    "print(c.ndim)\n",
    "print(d.ndim)\n"
   ]
  },
  {
   "cell_type": "code",
   "execution_count": 37,
   "id": "bcbbe393-3dbf-48c1-a3a3-742ebb063ae5",
   "metadata": {},
   "outputs": [
    {
     "name": "stdout",
     "output_type": "stream",
     "text": [
      "[[[[[1 2 3 4 5]]]]]\n"
     ]
    }
   ],
   "source": [
    "arr=np.array([1,2,3,4,5],ndmin=5)\n",
    "print(arr)"
   ]
  },
  {
   "cell_type": "markdown",
   "id": "953aa43e-cf5c-4cb6-bb5b-2e437c18e7e0",
   "metadata": {},
   "source": [
    "Access 3-D Arrays\n",
    "\n",
    "To access elements from 3-D arrays we can use comma separated integers repr\n",
    "esenting the dimensions and the index of the element.\n"
   ]
  },
  {
   "cell_type": "code",
   "execution_count": 49,
   "id": "45c78647-6511-4ae8-a831-c4c31377381b",
   "metadata": {},
   "outputs": [
    {
     "name": "stdout",
     "output_type": "stream",
     "text": [
      "3\n"
     ]
    }
   ],
   "source": [
    "arr=np.array([[[1,2,3],[4,5,6]],[[7,8,9],[10,11,12]]])\n",
    "print(arr[0,0,2])"
   ]
  },
  {
   "cell_type": "code",
   "execution_count": 63,
   "id": "e0fc0fe9-3002-419a-9257-ca8c73a85680",
   "metadata": {},
   "outputs": [
    {
     "name": "stdout",
     "output_type": "stream",
     "text": [
      "[ 1  4  7 10]\n"
     ]
    }
   ],
   "source": [
    "arr = np.array([1, 2, 3, 4, 5, 6, 7,8,9,10,11,12,13])\n",
    "print(arr[0:10:3])"
   ]
  },
  {
   "cell_type": "code",
   "execution_count": 65,
   "id": "faca36d7-43d7-4ae1-ba36-0219269b3aa6",
   "metadata": {},
   "outputs": [
    {
     "name": "stdout",
     "output_type": "stream",
     "text": [
      "[ 1  3  5  7  9 11 13]\n"
     ]
    }
   ],
   "source": [
    "print(arr[::2])"
   ]
  },
  {
   "cell_type": "code",
   "execution_count": 67,
   "id": "03cd492e-0070-438f-9e52-700551247cf9",
   "metadata": {},
   "outputs": [
    {
     "name": "stdout",
     "output_type": "stream",
     "text": [
      "[7 8 9]\n"
     ]
    }
   ],
   "source": [
    "arr = np.array([[1, 2, 3, 4, 5], [6, 7, 8, 9, 10]])\n",
    "\n",
    "print(arr[1, 1:4])"
   ]
  },
  {
   "cell_type": "code",
   "execution_count": null,
   "id": "34b2c4ac-28d4-4d7c-aa3c-45f4f8989da8",
   "metadata": {},
   "outputs": [],
   "source": []
  },
  {
   "cell_type": "code",
   "execution_count": 86,
   "id": "7146c211-937a-418a-8499-22cf61253138",
   "metadata": {},
   "outputs": [
    {
     "name": "stdout",
     "output_type": "stream",
     "text": [
      "[b'1' b'2' b'3' b'4']\n",
      "|S1\n"
     ]
    }
   ],
   "source": [
    "\n",
    "arr = np.array([1, 2, 3, 4], dtype='S')\n",
    "\n",
    "print(arr)\n",
    "print(arr.dtype)"
   ]
  },
  {
   "cell_type": "code",
   "execution_count": 90,
   "id": "7359f270-8016-4bb2-8a8f-58927795dbb4",
   "metadata": {},
   "outputs": [
    {
     "name": "stdout",
     "output_type": "stream",
     "text": [
      "Originat Array:  [1 2 3 4 5]\n",
      "Copy array: [100   2   3   4   5]\n"
     ]
    }
   ],
   "source": [
    "arr = np.array([1, 2, 3, 4, 5])\n",
    "x=arr.copy()\n",
    "x[0]=100\n",
    "print(\"Originat Array: \",arr)\n",
    "print(\"Copy array:\",x)"
   ]
  },
  {
   "cell_type": "code",
   "execution_count": 100,
   "id": "8c4e8246-64d9-4a40-8a5d-bb9d653c9839",
   "metadata": {},
   "outputs": [
    {
     "name": "stdout",
     "output_type": "stream",
     "text": [
      "[500   2   3   4   5]\n",
      "[200   2   3   4   5]\n",
      "[200   2   3   4   5]\n"
     ]
    }
   ],
   "source": [
    "arr = np.array([500, 2, 3, 4, 5])\n",
    "x=arr.view()\n",
    "print(arr)\n",
    "x[0]=200\n",
    "print(arr)\n",
    "print(x)"
   ]
  },
  {
   "cell_type": "code",
   "execution_count": 102,
   "id": "777a67bc-3dbc-45ea-a1ea-c7a13d6dfbfb",
   "metadata": {},
   "outputs": [
    {
     "name": "stdout",
     "output_type": "stream",
     "text": [
      "None\n",
      "[1 2 3 4 5]\n"
     ]
    }
   ],
   "source": [
    "arr = np.array([1, 2, 3, 4, 5])\n",
    "\n",
    "x = arr.copy()\n",
    "y = arr.view()\n",
    "\n",
    "print(x.base)\n",
    "print(y.base)"
   ]
  },
  {
   "cell_type": "code",
   "execution_count": 104,
   "id": "0cefc675-ad73-4f95-8913-ed32c05fcaf0",
   "metadata": {},
   "outputs": [
    {
     "name": "stdout",
     "output_type": "stream",
     "text": [
      "[[ 1  2  3]\n",
      " [ 4  5  6]\n",
      " [ 7  8  9]\n",
      " [10 11 12]]\n"
     ]
    }
   ],
   "source": [
    "arr = np.array([1, 2, 3, 4, 5, 6, 7, 8, 9, 10, 11, 12])\n",
    "\n",
    "newarr = arr.reshape(4, 3)\n",
    "\n",
    "print(newarr)\n"
   ]
  },
  {
   "cell_type": "code",
   "execution_count": 106,
   "id": "8b1718e2-c7c8-4730-a8f2-f1cea3e3d24c",
   "metadata": {},
   "outputs": [
    {
     "name": "stdout",
     "output_type": "stream",
     "text": [
      "1 2 3 "
     ]
    }
   ],
   "source": [
    "arr = np.array([1, 2, 3])\n",
    "for x in arr:\n",
    "    print(x , end=\" \")"
   ]
  },
  {
   "cell_type": "code",
   "execution_count": 110,
   "id": "508915b3-5f61-4dfb-bde0-22ca2ca9b52c",
   "metadata": {},
   "outputs": [
    {
     "name": "stdout",
     "output_type": "stream",
     "text": [
      "1 2 3 4 5 6 "
     ]
    }
   ],
   "source": [
    "arr = np.array([[1, 2, 3], [4, 5, 6]])\n",
    "for i in arr:\n",
    "    for j in i:\n",
    "        print(j , end=\" \")\n",
    "        "
   ]
  },
  {
   "cell_type": "code",
   "execution_count": 112,
   "id": "2dc59b3d-fa1a-4d80-99b7-7888cf24a8c9",
   "metadata": {},
   "outputs": [
    {
     "name": "stdout",
     "output_type": "stream",
     "text": [
      "1 2 3 4 5 6 7 8 "
     ]
    }
   ],
   "source": [
    "arr = np.array([[[1, 2], [3, 4]], [[5, 6], [7, 8]]])\n",
    "for x in np.nditer(arr):\n",
    "    print(x , end= \" \")"
   ]
  },
  {
   "cell_type": "code",
   "execution_count": 13,
   "id": "5f813c13-047c-4be6-a5de-55cb7e5d01ce",
   "metadata": {},
   "outputs": [
    {
     "name": "stdout",
     "output_type": "stream",
     "text": [
      "[1 2 3 4 5 6]\n"
     ]
    }
   ],
   "source": [
    "arr1 = np.array([1, 2, 3])\n",
    "\n",
    "arr2 = np.array([4, 5, 6])\n",
    "arr=np.concatenate((arr1,arr2))\n",
    "print(arr)"
   ]
  },
  {
   "cell_type": "code",
   "execution_count": 19,
   "id": "8ce84615-2815-46a1-8358-a610cd02d84e",
   "metadata": {},
   "outputs": [
    {
     "name": "stdout",
     "output_type": "stream",
     "text": [
      "[[1 2 5 6]\n",
      " [3 4 7 8]]\n"
     ]
    }
   ],
   "source": [
    "arr1 = np.array([[1, 2], [3, 4]])\n",
    "\n",
    "arr2 = np.array([[5, 6], [7, 8]])\n",
    "arr=np.concatenate((arr1,arr2),axis=1)\n",
    "print(arr)"
   ]
  },
  {
   "cell_type": "code",
   "execution_count": 21,
   "id": "7c72347f-86da-497b-b7c1-8f48764701ae",
   "metadata": {},
   "outputs": [
    {
     "name": "stdout",
     "output_type": "stream",
     "text": [
      "[[1 4]\n",
      " [2 5]\n",
      " [3 6]]\n"
     ]
    }
   ],
   "source": [
    "arr1 = np.array([1, 2, 3])\n",
    "\n",
    "arr2 = np.array([4, 5, 6])\n",
    "\n",
    "arr = np.stack((arr1, arr2), axis=1)\n",
    "\n",
    "print(arr)"
   ]
  },
  {
   "cell_type": "code",
   "execution_count": 25,
   "id": "1b7cf34c-f499-4b00-a38a-595884b87702",
   "metadata": {},
   "outputs": [
    {
     "name": "stdout",
     "output_type": "stream",
     "text": [
      "[array([1, 2]), array([3, 4]), array([5]), array([6])]\n"
     ]
    }
   ],
   "source": [
    "arr = np.array([1, 2, 3, 4, 5, 6])\n",
    "new_array_split=np.array_split(arr,4)\n",
    "print(new_array_split)"
   ]
  },
  {
   "cell_type": "code",
   "execution_count": 27,
   "id": "3f90d1c3-7412-4170-9774-89041a06e0f7",
   "metadata": {},
   "outputs": [
    {
     "name": "stdout",
     "output_type": "stream",
     "text": [
      "[array([[1, 2, 3],\n",
      "       [4, 5, 6]]), array([[ 7,  8,  9],\n",
      "       [10, 11, 12]]), array([[13, 14, 15],\n",
      "       [16, 17, 18]])]\n"
     ]
    }
   ],
   "source": [
    "arr = np.array([[1, 2, 3], [4, 5, 6], [7, 8, 9], [10, 11, 12], [13, 14, 15], [16, 17, 18]])\n",
    "newArr=np.array_split(arr,3)\n",
    "print(newArr)"
   ]
  },
  {
   "cell_type": "code",
   "execution_count": 33,
   "id": "e1bc19cc-84bc-4f9a-99a8-0627cda68693",
   "metadata": {},
   "outputs": [
    {
     "name": "stdout",
     "output_type": "stream",
     "text": [
      "[array([[ 1],\n",
      "       [ 4],\n",
      "       [ 7],\n",
      "       [10],\n",
      "       [13],\n",
      "       [16]]), array([[ 2],\n",
      "       [ 5],\n",
      "       [ 8],\n",
      "       [11],\n",
      "       [14],\n",
      "       [17]]), array([[ 3],\n",
      "       [ 6],\n",
      "       [ 9],\n",
      "       [12],\n",
      "       [15],\n",
      "       [18]])]\n"
     ]
    }
   ],
   "source": [
    "arr = np.array([[1, 2, 3], [4, 5, 6], [7, 8, 9], [10, 11, 12], [13, 14, 15], [16, 17, 18]])\n",
    "newArr=np.array_split(arr,3,axis=1)\n",
    "print(newArr)"
   ]
  },
  {
   "cell_type": "code",
   "execution_count": 37,
   "id": "1198344f-26a8-44e3-bf03-bdfc0160e12f",
   "metadata": {},
   "outputs": [
    {
     "name": "stdout",
     "output_type": "stream",
     "text": [
      "(array([3, 5, 6], dtype=int64),)\n"
     ]
    }
   ],
   "source": [
    "arr = np.array([1, 2, 3, 4, 5, 4, 4])\n",
    "x=np.where (arr==4)\n",
    "print(x)"
   ]
  },
  {
   "cell_type": "code",
   "execution_count": 39,
   "id": "613a90f2-e81d-4276-a8e9-a3015564c4f0",
   "metadata": {},
   "outputs": [
    {
     "name": "stdout",
     "output_type": "stream",
     "text": [
      "(array([1, 3, 5, 7], dtype=int64),)\n"
     ]
    }
   ],
   "source": [
    "arr = np.array([1, 2, 3, 4, 5, 6, 7, 8])\n",
    "x=np.where(arr%2==0)\n",
    "print(x)"
   ]
  },
  {
   "cell_type": "code",
   "execution_count": 41,
   "id": "33b7ae8d-d64e-4cad-b0ed-becc4a9772cc",
   "metadata": {},
   "outputs": [
    {
     "name": "stdout",
     "output_type": "stream",
     "text": [
      "(array([0, 2, 4, 6], dtype=int64),)\n"
     ]
    }
   ],
   "source": [
    "y=np.where(arr%2!=0)\n",
    "print(y)"
   ]
  },
  {
   "cell_type": "code",
   "execution_count": 47,
   "id": "547fcaa3-2e46-4f29-a839-d37cd4833e7d",
   "metadata": {},
   "outputs": [
    {
     "name": "stdout",
     "output_type": "stream",
     "text": [
      "4\n"
     ]
    }
   ],
   "source": [
    "arr = np.array([6, 7, 8, 9])\n",
    "x=np.searchsorted(arr,10)\n",
    "print(x)"
   ]
  },
  {
   "cell_type": "code",
   "execution_count": 51,
   "id": "41e09cd2-a3b8-417f-b52c-7deee669aff7",
   "metadata": {},
   "outputs": [
    {
     "name": "stdout",
     "output_type": "stream",
     "text": [
      "2\n"
     ]
    }
   ],
   "source": [
    "y=np.searchsorted(arr,7,side='right')\n",
    "print(y)"
   ]
  },
  {
   "cell_type": "code",
   "execution_count": 55,
   "id": "75c7ad6d-24fc-4930-a69f-ef6192e7f593",
   "metadata": {},
   "outputs": [
    {
     "name": "stdout",
     "output_type": "stream",
     "text": [
      "[2 1]\n"
     ]
    }
   ],
   "source": [
    "z=np.searchsorted(arr,[8,7])\n",
    "print(z)\n"
   ]
  },
  {
   "cell_type": "markdown",
   "id": "d1053649-6101-4a68-a5e6-c538637316fd",
   "metadata": {},
   "source": [
    "Basic Filtering Methods"
   ]
  },
  {
   "cell_type": "code",
   "execution_count": 63,
   "id": "4a11bea3-b5de-4519-85a8-e3b9bd65c111",
   "metadata": {},
   "outputs": [
    {
     "name": "stdout",
     "output_type": "stream",
     "text": [
      "[ True  True False  True False False False False]\n",
      "['Dhaka' 'Chittagong' 'Rajshahi']\n"
     ]
    }
   ],
   "source": [
    "divisions = np.array([\"Dhaka\", \"Chittagong\", \"Khulna\", \"Rajshahi\", \"Barishal\", \"Sylhet\", \"Rangpur\", \"Mymensingh\"])\n",
    "population = np.array([44.2, 33.2, 17.6, 20.4, 9.1, 11.3, 18.4, 12.2])\n",
    "high_population=population>20\n",
    "print(high_population)\n",
    "print(divisions[high_population])\n"
   ]
  },
  {
   "cell_type": "code",
   "execution_count": 72,
   "id": "2f926a0c-cab5-4528-958e-e1ad2d302ce3",
   "metadata": {},
   "outputs": [
    {
     "name": "stdout",
     "output_type": "stream",
     "text": [
      "(array([1, 2, 4, 5], dtype=int64),)\n"
     ]
    }
   ],
   "source": [
    "# Bangladeshi temperature data (in °C) for last week\n",
    "temperatures = np.array([28, 32, 35, 29, 31, 34, 30])\n",
    "hots_says=np.where(temperatures >30)\n",
    "print(hots_says)"
   ]
  },
  {
   "cell_type": "code",
   "execution_count": 74,
   "id": "424a4a44-1090-4ce3-a658-9c13a51b245e",
   "metadata": {},
   "outputs": [
    {
     "name": "stdout",
     "output_type": "stream",
     "text": [
      "(array([0, 1, 3, 5, 6], dtype=int64),)\n"
     ]
    }
   ],
   "source": [
    "salaries = np.array([12000, 8500, 15600, 9200, 18200, 7500, 10500])\n",
    "low_salaries=np.where(salaries<15600)\n",
    "print(low_salaries)"
   ]
  },
  {
   "cell_type": "code",
   "execution_count": 80,
   "id": "65da4bc8-1e79-4c94-981e-d44947d0ede4",
   "metadata": {},
   "outputs": [
    {
     "name": "stdout",
     "output_type": "stream",
     "text": [
      "[8500 9200 7500]\n"
     ]
    }
   ],
   "source": [
    "low_salaries=salaries[salaries<10000]\n",
    "print(low_salaries)"
   ]
  },
  {
   "cell_type": "code",
   "execution_count": 84,
   "id": "153d058b-8b50-4efe-bb4d-57d18d481b98",
   "metadata": {},
   "outputs": [
    {
     "name": "stdout",
     "output_type": "stream",
     "text": [
      "['Comilla']\n"
     ]
    }
   ],
   "source": [
    "# Rice production (metric tons) from 7 districts\n",
    "districts = np.array([\"Bogra\", \"Dinajpur\", \"Comilla\", \"Jessore\", \"Mymensingh\", \"Faridpur\", \"Pabna\"])\n",
    "production = np.array([520, 480, 610, 550, 590, 510, 530])\n",
    "top_production=districts[production>600]\n",
    "print(top_production)\n"
   ]
  },
  {
   "cell_type": "code",
   "execution_count": 88,
   "id": "b90cc7a8-8d87-4095-9463-01804bc7abc4",
   "metadata": {},
   "outputs": [
    {
     "name": "stdout",
     "output_type": "stream",
     "text": [
      "['Chittagong' 'Khulna' 'Rajshahi']\n"
     ]
    }
   ],
   "source": [
    "# Bangladeshi city populations (in lakhs)\n",
    "cities = np.array([\"Dhaka\", \"Chittagong\", \"Khulna\", \"Rajshahi\", \"Sylhet\"])\n",
    "pops = np.array([200, 50, 15, 10, 8])\n",
    "\n",
    "# Cities with population between 10-100 lakhs\n",
    "pop=cities[(pops>=10) &(pops<=100)]\n",
    "print(pop)"
   ]
  },
  {
   "cell_type": "code",
   "execution_count": 98,
   "id": "c219bddc-1e5e-4ffa-8722-a2b86cc09b00",
   "metadata": {},
   "outputs": [
    {
     "name": "stdout",
     "output_type": "stream",
     "text": [
      "24\n"
     ]
    }
   ],
   "source": [
    "from numpy  import random\n",
    "x=random.randint(100)\n",
    "print(x)"
   ]
  },
  {
   "cell_type": "code",
   "execution_count": 108,
   "id": "25a4e80d-8fc1-45bb-8f03-78eeddcc50a5",
   "metadata": {},
   "outputs": [
    {
     "name": "stdout",
     "output_type": "stream",
     "text": [
      "0.6563244448526956\n"
     ]
    }
   ],
   "source": [
    "x=random.rand()\n",
    "print(x)"
   ]
  },
  {
   "cell_type": "code",
   "execution_count": 118,
   "id": "80065770-6cb3-4375-b0d8-0df75f86c16f",
   "metadata": {},
   "outputs": [
    {
     "name": "stdout",
     "output_type": "stream",
     "text": [
      "5\n"
     ]
    }
   ],
   "source": [
    "x = random.choice([3, 5, 7, 9])\n",
    "\n",
    "print(x)"
   ]
  },
  {
   "cell_type": "code",
   "execution_count": 122,
   "id": "8c29db39-0600-491a-94cf-d32fa069b15f",
   "metadata": {},
   "outputs": [
    {
     "name": "stdout",
     "output_type": "stream",
     "text": [
      "95\n"
     ]
    }
   ],
   "source": [
    "from numpy import random\n",
    "x=random.randint(100)\n",
    "print(x)"
   ]
  },
  {
   "cell_type": "code",
   "execution_count": 140,
   "id": "97f735ed-c714-4dae-b3bf-2ad4694b2882",
   "metadata": {},
   "outputs": [
    {
     "name": "stdout",
     "output_type": "stream",
     "text": [
      "[0.66052944 0.84204399 0.66610801]\n"
     ]
    }
   ],
   "source": [
    "hanif=random.rand(3)\n",
    "print(hanif)"
   ]
  },
  {
   "cell_type": "code",
   "execution_count": 144,
   "id": "a39e139a-bfbb-4aa3-8aef-2f265a81a7d0",
   "metadata": {},
   "outputs": [
    {
     "name": "stdout",
     "output_type": "stream",
     "text": [
      "[79 57 92 35 15]\n"
     ]
    }
   ],
   "source": [
    "randomArray=random.randint(100,size=(5))\n",
    "print(randomArray)"
   ]
  },
  {
   "cell_type": "code",
   "execution_count": 146,
   "id": "6add01b5-c4ba-4f94-bc67-fc41af3dfaeb",
   "metadata": {},
   "outputs": [
    {
     "name": "stdout",
     "output_type": "stream",
     "text": [
      "[[ 0 97 76 69 84]\n",
      " [93 39 16 20 86]]\n"
     ]
    }
   ],
   "source": [
    "twoRandom=random.randint(100,size=(2,5))\n",
    "print(twoRandom)"
   ]
  },
  {
   "cell_type": "code",
   "execution_count": 158,
   "id": "b5cdc83c-65ca-4e4a-8878-d72839d1e62c",
   "metadata": {},
   "outputs": [
    {
     "name": "stdout",
     "output_type": "stream",
     "text": [
      "30\n"
     ]
    }
   ],
   "source": [
    "choiceNumber=random.choice([10,20,30,40])\n",
    "print(choiceNumber)"
   ]
  },
  {
   "cell_type": "markdown",
   "id": "61f52597-3359-478a-9595-dd82fc4ef4c0",
   "metadata": {},
   "source": [
    "A random distribution is a set of random numbers that follow a certain probability density function."
   ]
  },
  {
   "cell_type": "code",
   "execution_count": 175,
   "id": "cff43daf-a3fc-4627-aff3-50dc4feed5da",
   "metadata": {},
   "outputs": [],
   "source": [
    "import matplotlib.pyplot as plt\n",
    "# Generate uniform temperatures between 25°C to 38°C for 30 days\n",
    "dhaka_tem=np.random.uniform(low=25,high=35,size=30)\n"
   ]
  },
  {
   "cell_type": "code",
   "execution_count": 173,
   "id": "92fce8b7-b7f9-43dd-8838-b72921c0d2a1",
   "metadata": {},
   "outputs": [
    {
     "data": {
      "image/png": "[encoded data removed]",
      "text/plain": [
       "<Figure size 640x480 with 1 Axes>"
      ]
     },
     "metadata": {},
     "output_type": "display_data"
    }
   ],
   "source": [
    "plt.hist(dhaka_tem,bins=10)\n",
    "plt.title(\"Dahaka Temperature Distribution (uniform)\")\n",
    "plt.xlabel(\"Temperature (°C)\")\n",
    "plt.ylabel(\"Temperature Frequency\")\n",
    "plt.show()\n"
   ]
  },
  {
   "cell_type": "code",
   "execution_count": 185,
   "id": "6fac8308-e94a-4ae4-a1bc-116a021f4109",
   "metadata": {},
   "outputs": [
    {
     "data": {
      "image/png": "[encoded data removed]",
      "text/plain": [
       "<Figure size 640x480 with 1 Axes>"
      ]
     },
     "metadata": {},
     "output_type": "display_data"
    }
   ],
   "source": [
    "from scipy.stats import norm\n",
    "import matplotlib.pyplot as plt\n",
    "\n",
    "# ঢাকার গড় তাপমাত্রা ২৬°C, স্ট্যান্ডার্ড ডেভিয়েশন ৫°C\n",
    "temps = np.linspace(10, 40, 100)\n",
    "pdf = norm.pdf(temps, loc=15, scale=15)\n",
    "\n",
    "plt.plot(temps, pdf)\n",
    "plt.title(\"Dhaka Temperature PDF\")\n",
    "plt.xlabel(\"Temperature(°C)\")\n",
    "plt.ylabel(\"Probability Density\")\n",
    "plt.show()"
   ]
  },
  {
   "cell_type": "code",
   "execution_count": 195,
   "id": "3c6a8227-dcbb-424b-bb9e-95b4c7a9d679",
   "metadata": {},
   "outputs": [
    {
     "name": "stdout",
     "output_type": "stream",
     "text": [
      "['Mymensingh' 'Pabna' 'Bogra' 'Jessore' 'Comilla' 'Faridpur' 'Dinajpur']\n"
     ]
    }
   ],
   "source": [
    "districts = np.array([\"Bogra\", \"Dinajpur\", \"Comilla\", \"Jessore\", \"Mymensingh\", \"Faridpur\", \"Pabna\"])\n",
    "shuffled=np.random.permutation(districts)\n",
    "print(shuffled)\n",
    "                    "
   ]
  },
  {
   "cell_type": "code",
   "execution_count": 199,
   "id": "9504674c-4dee-466c-b41f-23cd2355b025",
   "metadata": {},
   "outputs": [
    {
     "name": "stdout",
     "output_type": "stream",
     "text": [
      "['Pabna' 'Mymensingh' 'Jessore' 'Comilla' 'Faridpur' 'Dinajpur' 'Bogra']\n"
     ]
    }
   ],
   "source": [
    "np.random.shuffle(districts)\n",
    "print(districts)"
   ]
  },
  {
   "cell_type": "code",
   "execution_count": 201,
   "id": "00490681-6025-4d0a-9ab2-268f6dfa182d",
   "metadata": {},
   "outputs": [
    {
     "name": "stdout",
     "output_type": "stream",
     "text": [
      "['Pabna' 'Mymensingh' 'Jessore' 'Comilla' 'Faridpur' 'Dinajpur' 'Bogra']\n"
     ]
    }
   ],
   "source": [
    "print(districts)"
   ]
  },
  {
   "cell_type": "code",
   "execution_count": 213,
   "id": "bb05d66f-b2ea-4cac-8a3f-970074b44ad7",
   "metadata": {},
   "outputs": [
    {
     "name": "stdout",
     "output_type": "stream",
     "text": [
      "[ 1  2  3  4  5  6  7  8  9 10 11 12 13 14 15 16 17 18 19 20 21 22 23 24\n",
      " 25 26 27 28 29 30 31 32 33 34 35 36 37 38 39 40 41 42 43 44 45 46 47 48\n",
      " 49 50 51 52 53 54 55 56 57 58 59 60 61 62 63 64 65 66 67 68 69 70 71 72\n",
      " 73 74 75 76 77 78 79 80 81 82 83 84 85 86 87 88 89 90 91 92 93 94 95 96\n",
      " 97 98 99]\n",
      "[96 43 98 53 86]\n"
     ]
    }
   ],
   "source": [
    "tickets=np.arange(1,100)\n",
    "print(tickets)\n",
    "number=np.random.permutation(tickets)[:5]\n",
    "print(number)"
   ]
  },
  {
   "cell_type": "code",
   "execution_count": null,
   "id": "8f84824b-9c38-4d4b-81d1-2a566e707c70",
   "metadata": {},
   "outputs": [],
   "source": []
  },
  {
   "cell_type": "code",
   "execution_count": null,
   "id": "04e3b541-dea1-4e39-a47d-999f0972b7a7",
   "metadata": {},
   "outputs": [],
   "source": []
  },
  {
   "cell_type": "code",
   "execution_count": null,
   "id": "fe93d7ab-d335-40ef-b038-9ca295b4c489",
   "metadata": {},
   "outputs": [],
   "source": []
  }
 ],
 "metadata": {
  "kernelspec": {
   "display_name": "Python [conda env:base] *",
   "language": "python",
   "name": "conda-base-py"
  },
  "language_info": {
   "codemirror_mode": {
    "name": "ipython",
    "version": 3
   },
   "file_extension": ".py",
   "mimetype": "text/x-python",
   "name": "python",
   "nbconvert_exporter": "python",
   "pygments_lexer": "ipython3",
   "version": "3.12.7"
  }
 },
 "nbformat": 4,
 "nbformat_minor": 5
}
