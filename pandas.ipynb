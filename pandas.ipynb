{
  "nbformat": 4,
  "nbformat_minor": 0,
  "metadata": {
    "colab": {
      "provenance": [],
      "mount_file_id": "1bNwlAZHqH2Gf_8MsLsARrJnTiTk5o-mC",
      "authorship_tag": "ABX9TyMRNecoKnAU7HrzrjEXMkWQ",
      "include_colab_link": true
    },
    "kernelspec": {
      "name": "python3",
      "display_name": "Python 3"
    },
    "language_info": {
      "name": "python"
    }
  },
  "cells": [
    {
      "cell_type": "markdown",
      "metadata": {
        "id": "view-in-github",
        "colab_type": "text"
      },
      "source": [
        "<a href=\"https://colab.research.google.com/github/abuhanifornob/Advance-Python/blob/main/pandas.ipynb\" target=\"_parent\"><img src=\"https://colab.research.google.com/assets/colab-badge.svg\" alt=\"Open In Colab\"/></a>"
      ]
    },
    {
      "cell_type": "code",
      "execution_count": 2,
      "metadata": {
        "colab": {
          "base_uri": "https://localhost:8080/"
        },
        "id": "Z7HNX48wyIxS",
        "outputId": "495bd951-968f-44bf-b2fa-7764da3d71a9"
      },
      "outputs": [
        {
          "output_type": "stream",
          "name": "stdout",
          "text": [
            "[1, 2, 3, 4, 5]\n"
          ]
        }
      ],
      "source": [
        "import pandas as pd\n",
        "x=[1,2,3,4,5]\n",
        "print(x)"
      ]
    },
    {
      "cell_type": "code",
      "source": [
        "pandasSerice=pd.Series(x)\n",
        "print(pandasSerice)"
      ],
      "metadata": {
        "colab": {
          "base_uri": "https://localhost:8080/"
        },
        "id": "9Inmue80yVVe",
        "outputId": "19464aa2-e55c-4c7e-e536-302a50396e07"
      },
      "execution_count": 3,
      "outputs": [
        {
          "output_type": "stream",
          "name": "stdout",
          "text": [
            "0    1\n",
            "1    2\n",
            "2    3\n",
            "3    4\n",
            "4    5\n",
            "dtype: int64\n"
          ]
        }
      ]
    },
    {
      "cell_type": "code",
      "source": [
        "pandasData=pd.Series(x,index=[1,2,3,4,5],dtype=\"float\",name=\"python\")\n",
        "print(pandasData)"
      ],
      "metadata": {
        "colab": {
          "base_uri": "https://localhost:8080/"
        },
        "id": "zKDYnkQvz47b",
        "outputId": "741c104a-422f-43f3-a44a-c0e68cd7c173"
      },
      "execution_count": 4,
      "outputs": [
        {
          "output_type": "stream",
          "name": "stdout",
          "text": [
            "1    1.0\n",
            "2    2.0\n",
            "3    3.0\n",
            "4    4.0\n",
            "5    5.0\n",
            "Name: python, dtype: float64\n"
          ]
        }
      ]
    },
    {
      "cell_type": "code",
      "source": [
        "dic={\"name\":[\"python\",\"C\",\"C++\",\"Java\"],\"Devloper\":[10,12,50,10],\"Rank\":[1,4,3,2]}\n",
        "pandasDic=pd.Series(dic)\n",
        "print(pandasDic)"
      ],
      "metadata": {
        "colab": {
          "base_uri": "https://localhost:8080/"
        },
        "id": "nY3al7q20d_A",
        "outputId": "06369057-0656-4cfa-9c33-ffd22e37aced"
      },
      "execution_count": 5,
      "outputs": [
        {
          "output_type": "stream",
          "name": "stdout",
          "text": [
            "name        [python, C, C++, Java]\n",
            "Devloper          [10, 12, 50, 10]\n",
            "Rank                  [1, 4, 3, 2]\n",
            "dtype: object\n"
          ]
        }
      ]
    },
    {
      "cell_type": "code",
      "source": [
        "print(pandasDic)"
      ],
      "metadata": {
        "id": "5Q6HO6vh029r",
        "colab": {
          "base_uri": "https://localhost:8080/"
        },
        "outputId": "34eb3629-cb9b-473f-8da1-b8dda165ff75"
      },
      "execution_count": 7,
      "outputs": [
        {
          "output_type": "stream",
          "name": "stdout",
          "text": [
            "name        [python, C, C++, Java]\n",
            "Devloper          [10, 12, 50, 10]\n",
            "Rank                  [1, 4, 3, 2]\n",
            "dtype: object\n"
          ]
        }
      ]
    },
    {
      "cell_type": "code",
      "source": [],
      "metadata": {
        "id": "72Qq5iiRSSrZ"
      },
      "execution_count": null,
      "outputs": []
    }
  ]
}