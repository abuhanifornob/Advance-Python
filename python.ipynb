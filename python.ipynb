{
  "nbformat": 4,
  "nbformat_minor": 0,
  "metadata": {
    "colab": {
      "provenance": [],
      "authorship_tag": "ABX9TyPlPiTbo3o/WADoIrygdP+5",
      "include_colab_link": true
    },
    "kernelspec": {
      "name": "python3",
      "display_name": "Python 3"
    },
    "language_info": {
      "name": "python"
    }
  },
  "cells": [
    {
      "cell_type": "markdown",
      "metadata": {
        "id": "view-in-github",
        "colab_type": "text"
      },
      "source": [
        "<a href=\"https://colab.research.google.com/github/abuhanifornob/Advance-Python/blob/main/python.ipynb\" target=\"_parent\"><img src=\"https://colab.research.google.com/assets/colab-badge.svg\" alt=\"Open In Colab\"/></a>"
      ]
    },
    {
      "cell_type": "code",
      "execution_count": null,
      "metadata": {
        "colab": {
          "base_uri": "https://localhost:8080/"
        },
        "id": "qjfxf4v31eof",
        "outputId": "02602ebc-cd15-4135-dd39-46c0d657df51"
      },
      "outputs": [
        {
          "output_type": "stream",
          "name": "stdout",
          "text": [
            "Hello Bangladesh\n"
          ]
        }
      ],
      "source": [
        "print(\"Hello Bangladesh\")"
      ]
    },
    {
      "cell_type": "code",
      "source": [
        "print(\"Hello bangladesh\")"
      ],
      "metadata": {
        "colab": {
          "base_uri": "https://localhost:8080/"
        },
        "id": "HyUoSUpO1j24",
        "outputId": "ed7f3be4-bb7d-47bb-be77-538518646b1b"
      },
      "execution_count": null,
      "outputs": [
        {
          "output_type": "stream",
          "name": "stdout",
          "text": [
            "Hello bangladesh\n"
          ]
        }
      ]
    },
    {
      "cell_type": "code",
      "source": [
        "print(\"Hello github Integration Basic\")"
      ],
      "metadata": {
        "id": "i1QMsQkQ1rYf",
        "colab": {
          "base_uri": "https://localhost:8080/"
        },
        "outputId": "fe966d14-121e-42fd-816d-c49e40406ed7"
      },
      "execution_count": 4,
      "outputs": [
        {
          "output_type": "stream",
          "name": "stdout",
          "text": [
            "Hello github Integration Basic\n"
          ]
        }
      ]
    },
    {
      "cell_type": "code",
      "source": [],
      "metadata": {
        "id": "lfLltH9a2hPJ"
      },
      "execution_count": null,
      "outputs": []
    }
  ]
}